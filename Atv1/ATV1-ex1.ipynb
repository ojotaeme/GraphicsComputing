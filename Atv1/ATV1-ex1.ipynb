{
 "cells": [
  {
   "cell_type": "code",
   "execution_count": 1,
   "id": "27b4ec04",
   "metadata": {},
   "outputs": [
    {
     "name": "stdout",
     "output_type": "stream",
     "text": [
      "pygame 2.3.0 (SDL 2.24.2, Python 3.10.9)\n",
      "Hello from the pygame community. https://www.pygame.org/contribute.html\n"
     ]
    },
    {
     "data": {
      "text/plain": [
       "(5, 0)"
      ]
     },
     "execution_count": 1,
     "metadata": {},
     "output_type": "execute_result"
    }
   ],
   "source": [
    "import pygame\n",
    "import numpy as np\n",
    "pygame.init()"
   ]
  },
  {
   "cell_type": "code",
   "execution_count": 2,
   "id": "e3111176",
   "metadata": {},
   "outputs": [],
   "source": [
    "class Tela:\n",
    "    def __init__(self, titulo, corFundo, largura, altura):\n",
    "        self.titulo = titulo\n",
    "        self.corFundo = corFundo\n",
    "        self.largura = largura\n",
    "        self.altura = altura\n",
    "        self.screen = pygame.display.set_mode(self.obterTamanho())\n",
    "        pygame.display.set_caption(self.titulo)\n",
    "\n",
    "    def executar(self, objeto):\n",
    "        while True:\n",
    "            for evento in pygame.event.get():\n",
    "                if evento.type == pygame.QUIT:\n",
    "                    return pygame.quit()\n",
    "\n",
    "            self.screen.fill(self.corFundo)\n",
    "            objeto.desenhar(self)\n",
    "            pygame.display.update()\n",
    "\n",
    "    def obterTamanho(self):\n",
    "        return (self.largura, self.altura)\n",
    "\n",
    "    def definirPixel(self, x, y, cor):\n",
    "        self.screen.set_at((x, y), cor)"
   ]
  },
  {
   "cell_type": "code",
   "execution_count": 3,
   "id": "a26a4567",
   "metadata": {},
   "outputs": [],
   "source": [
    "class Linha:\n",
    "    def __init__(self, x1, y1, x2, y2, vetor, cor):\n",
    "        self.x1 = x1\n",
    "        self.y1 = y1\n",
    "        self.x2 = x2\n",
    "        self.y2 = y2\n",
    "        self.vetor = vetor\n",
    "        self.cor = cor\n",
    "\n",
    "    def desenhar(self, tela):\n",
    "        self.dda(tela)\n",
    "\n",
    "    def dda(self, tela):\n",
    "        dx = self.x2 - self.x1\n",
    "        dy = self.y2 - self.y1\n",
    "        k = 0\n",
    "\n",
    "        if abs(dx) > abs(dy):\n",
    "            it = abs(dx)\n",
    "        else:\n",
    "            it = abs(dy)\n",
    "\n",
    "        x_inc = dx / it\n",
    "        y_inc = dy / it\n",
    "\n",
    "        x = self.x1\n",
    "        y = self.y1\n",
    "\n",
    "        tela.definirPixel(round(x), round(y), self.cor)\n",
    "\n",
    "        for k in range(it):\n",
    "            for c in self.vetor:\n",
    "                x += x_inc\n",
    "                y += y_inc\n",
    "\n",
    "                if c == 1:\n",
    "                    tela.definirPixel(round(x), round(y), self.cor)"
   ]
  },
  {
   "cell_type": "code",
   "execution_count": 4,
   "id": "1faee23a",
   "metadata": {},
   "outputs": [],
   "source": [
    "tela = Tela(\"Exemplo 1\", pygame.Color(255, 255, 255, 255), 800, 800)\n",
    "vetor = np.array([1, 0])\n",
    "linha1 = Linha(10, 10, 400, 400, vetor, pygame.Color(10, 72, 234, 0))\n",
    "tela.executar(linha1)\n",
    "\n",
    "tela = Tela(\"Exemplo 2\", pygame.Color(255, 255, 255, 255), 800, 800)\n",
    "vetor = np.array([1, 1, 1, 0, 0])\n",
    "linha2 = Linha(10, 10, 400, 400, vetor, pygame.Color(228, 4, 240, 0))\n",
    "tela.executar(linha2)\n",
    "\n",
    "tela = Tela(\"Exemplo 3\", pygame.Color(255, 255, 255, 255), 800, 800)\n",
    "vetor = np.array([1, 1, 0, 1, 0, 0, 0])\n",
    "linha3 = Linha(10, 10, 400, 400, vetor, pygame.Color(10, 72, 234, 0))\n",
    "tela.executar(linha3)"
   ]
  },
  {
   "cell_type": "code",
   "execution_count": null,
   "id": "e1c2af62",
   "metadata": {},
   "outputs": [],
   "source": []
  }
 ],
 "metadata": {
  "kernelspec": {
   "display_name": "Python 3 (ipykernel)",
   "language": "python",
   "name": "python3"
  },
  "language_info": {
   "codemirror_mode": {
    "name": "ipython",
    "version": 3
   },
   "file_extension": ".py",
   "mimetype": "text/x-python",
   "name": "python",
   "nbconvert_exporter": "python",
   "pygments_lexer": "ipython3",
   "version": "3.10.9"
  }
 },
 "nbformat": 4,
 "nbformat_minor": 5
}
