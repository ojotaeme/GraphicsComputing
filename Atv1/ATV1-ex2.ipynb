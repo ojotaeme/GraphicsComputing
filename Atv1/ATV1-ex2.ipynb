{
 "cells": [
  {
   "cell_type": "code",
   "execution_count": 1,
   "id": "01482d97",
   "metadata": {},
   "outputs": [
    {
     "name": "stdout",
     "output_type": "stream",
     "text": [
      "pygame 2.3.0 (SDL 2.24.2, Python 3.10.9)\n",
      "Hello from the pygame community. https://www.pygame.org/contribute.html\n"
     ]
    },
    {
     "data": {
      "text/plain": [
       "(5, 0)"
      ]
     },
     "execution_count": 1,
     "metadata": {},
     "output_type": "execute_result"
    }
   ],
   "source": [
    "import pygame\n",
    "pygame.init()"
   ]
  },
  {
   "cell_type": "code",
   "execution_count": 2,
   "id": "bbda9105",
   "metadata": {},
   "outputs": [],
   "source": [
    "class Tela:\n",
    "    def __init__(self, titulo, corFundo, largura, altura):\n",
    "        self.titulo = titulo\n",
    "        self.corFundo = corFundo\n",
    "        self.largura = largura\n",
    "        self.altura = altura\n",
    "        self.screen = pygame.display.set_mode(self.obterTamanho())\n",
    "        pygame.display.set_caption(self.titulo)\n",
    "\n",
    "    def executar(self, objeto):\n",
    "        while True:\n",
    "            for evento in pygame.event.get():\n",
    "                if evento.type == pygame.QUIT:\n",
    "                    return pygame.quit()\n",
    "\n",
    "            self.screen.fill(self.corFundo)\n",
    "            objeto.desenhar(self)\n",
    "            pygame.display.update()\n",
    "\n",
    "    def obterTamanho(self):\n",
    "        return (self.largura, self.altura)\n",
    "\n",
    "    def definirPixel(self, x, y, cor):\n",
    "        self.screen.set_at((x, y), cor)"
   ]
  },
  {
   "cell_type": "code",
   "execution_count": 3,
   "id": "8665e702",
   "metadata": {},
   "outputs": [],
   "source": [
    "class Circunferencia:\n",
    "    def __init__(self, xc, yc, raio, borda, cor):\n",
    "        self.xc = xc\n",
    "        self.yc = yc\n",
    "        self.raio = raio\n",
    "        self.borda = borda\n",
    "        self.cor = cor\n",
    "\n",
    "    def desenhar(self, tela):\n",
    "        x = 0\n",
    "        y = self.raio\n",
    "        d = 1 - self.raio\n",
    "\n",
    "        self.desenharPontosCirculo(x, y, self.cor, tela)\n",
    "\n",
    "        while x < y:\n",
    "            if d < 0:\n",
    "                d = d + 2 * x + 3\n",
    "            else:\n",
    "                d = d + 2 * (x - y) + 5\n",
    "                y = y - 1\n",
    "\n",
    "            x = x + 1\n",
    "\n",
    "            self.desenharPontosCirculo(x, y, self.cor, tela)\n",
    "\n",
    "    def bresenham(self, tela, xc, x, yc, y, borda):\n",
    "        self.x1 = xc\n",
    "        self.y1 = yc\n",
    "        self.x2 = x\n",
    "        self.y2 = y\n",
    "        self.cor = borda\n",
    "\n",
    "        dx, dy, d = 0, 0, 0\n",
    "        incrE, incrNE = 0, 0\n",
    "        x, y, xFinal = 0, 0, 0\n",
    "\n",
    "        dx = abs(self.x2 - self.x1)\n",
    "        dy = abs(self.y2 - self.y1)\n",
    "\n",
    "        d = 2 * dy - dx\n",
    "\n",
    "        incrE = 2 * dy\n",
    "        incrNE = 2 * (dy - dx)\n",
    "\n",
    "        if self.x1 > self.x2:\n",
    "            x = self.x2\n",
    "            y = self.y2\n",
    "            xFinal = self.x1\n",
    "        else:\n",
    "            x = self.x1\n",
    "            y = self.y1\n",
    "            xFinal = self.x2\n",
    "\n",
    "        tela.definirPixel(x, y, self.borda)\n",
    "\n",
    "        while x < xFinal:\n",
    "            x = x + 1\n",
    "            if d < 0:\n",
    "                d = d + incrE\n",
    "            else:\n",
    "                y = y + 1\n",
    "                d = d + incrNE\n",
    "\n",
    "            tela.definirPixel(x, y, self.cor)\n",
    "\n",
    "    def desenharPontosCirculo(self, x, y, cor, tela):\n",
    "        xCentro = self.xc\n",
    "        yCentro = self.yc\n",
    "\n",
    "        self.bresenham(tela, xCentro - x, xCentro + x, yCentro + y, yCentro + y, self.cor)\n",
    "        self.bresenham(tela, xCentro - y, xCentro + y, yCentro + x, yCentro + x, self.cor)\n",
    "        self.bresenham(tela, xCentro - y, xCentro + y, yCentro - x, yCentro - x, self.cor)\n",
    "        self.bresenham(tela, xCentro - x, xCentro + x, yCentro - y, yCentro - y, self.cor)\n",
    "\n",
    "        tela.definirPixel(xCentro + x, yCentro + y, self.borda)\n",
    "        tela.definirPixel(xCentro + y, yCentro + x, self.borda)\n",
    "        tela.definirPixel(xCentro + y, yCentro - x, self.borda)\n",
    "        tela.definirPixel(xCentro + x, yCentro - y, self.borda)\n",
    "        tela.definirPixel(xCentro - x, yCentro - y, self.borda)\n",
    "        tela.definirPixel(xCentro - y, yCentro - x, self.borda)\n",
    "        tela.definirPixel(xCentro - y, yCentro + x, self.borda)\n",
    "        tela.definirPixel(xCentro - x, yCentro + y, self.borda)"
   ]
  },
  {
   "cell_type": "code",
   "execution_count": 4,
   "id": "0c7a0343",
   "metadata": {},
   "outputs": [],
   "source": [
    "tela = Tela(\"Exemplo 1\", pygame.Color(255, 255, 255, 255), 1000, 1000)\n",
    "circulo = Circunferencia(500, 500, 300, pygame.Color(228, 4, 240, 0), pygame.Color(2, 149, 254, 0))\n",
    "tela.executar(circulo)\n",
    "\n",
    "tela = Tela(\"Exemplo 2\", pygame.Color(255, 255, 255, 255), 1000, 1000)\n",
    "circulo = Circunferencia(500, 350, 300, pygame.Color(21, 90, 236, 0), pygame.Color(254, 227, 9, 0))\n",
    "tela.executar(circulo)\n",
    "\n",
    "tela = Tela(\"Exemplo 3\", pygame.Color(255, 255, 255, 255), 1000, 1000)\n",
    "circulo = Circunferencia(500, 700, 100, pygame.Color(49, 82, 13, 0), pygame.Color(108, 28, 147, 0))\n",
    "tela.executar(circulo)"
   ]
  },
  {
   "cell_type": "code",
   "execution_count": null,
   "id": "233496cd",
   "metadata": {},
   "outputs": [],
   "source": []
  }
 ],
 "metadata": {
  "kernelspec": {
   "display_name": "Python 3 (ipykernel)",
   "language": "python",
   "name": "python3"
  },
  "language_info": {
   "codemirror_mode": {
    "name": "ipython",
    "version": 3
   },
   "file_extension": ".py",
   "mimetype": "text/x-python",
   "name": "python",
   "nbconvert_exporter": "python",
   "pygments_lexer": "ipython3",
   "version": "3.10.9"
  }
 },
 "nbformat": 4,
 "nbformat_minor": 5
}
